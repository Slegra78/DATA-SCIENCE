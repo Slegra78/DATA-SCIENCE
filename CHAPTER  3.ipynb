{
 "cells": [
  {
   "cell_type": "code",
   "execution_count": 2,
   "metadata": {
    "collapsed": true
   },
   "outputs": [],
   "source": [
    "import pygal"
   ]
  },
  {
   "cell_type": "code",
   "execution_count": 6,
   "metadata": {
    "collapsed": true
   },
   "outputs": [],
   "source": [
    "#Building a line chart. Show how data change over time.\n",
    "#x axis indicate time or value and the y axis indicate some other parameter we are looking for.\n",
    "line = pygal.Line()\n",
    "line.title = \"Songs Played last 15 years\"\n",
    "line.x_labels = map(str, range (1960, 1975))\n",
    "line.add(\"Donwloads\", [None, 4, 6, 12, 24, 32, 60, 72, 80,90, 148]) #none will add an empty space\n",
    "line.render_to_file('linechart.svg')\n"
   ]
  },
  {
   "cell_type": "code",
   "execution_count": 11,
   "metadata": {
    "collapsed": true
   },
   "outputs": [],
   "source": [
    "#Stacked line chart. Same as line charts but stack multiple sets of data over each other to show group value. \n",
    "line = pygal.StackedLine(fill = True)\n",
    "line.title = \"Tv shows watched over fifteen years\"\n",
    "line.x_labels = map(str, range(2000, 2015))\n",
    "line.add(\"Game of Thrones\", {None, 0, 12, 32, 40, 50, 72, 148})\n",
    "line.add(\"Nurse Jackie\", [2, 16, 12, 87, 30, 55, 20, 38])\n",
    "line.add(\"Breaking Bad\", [10, 15, 40, 60, 30, 56, 60, 100])\n",
    "line.render_to_file('Stackedline.svg')"
   ]
  },
  {
   "cell_type": "code",
   "execution_count": 12,
   "metadata": {
    "collapsed": true
   },
   "outputs": [],
   "source": [
    "#Stacked line chart with False\n",
    "line = pygal.StackedLine(fill = False)\n",
    "line.title = \"Tv shows watched over fifteen years\"\n",
    "line.x_labels = map(str, range(2000, 2015))\n",
    "line.add(\"Game of Thrones\", {None, 0, 12, 32, 40, 50, 72, 148})\n",
    "line.add(\"Nurse Jackie\", [2, 16, 12, 87, 30, 55, 20, 38])\n",
    "line.add(\"Breaking Bad\", [10, 15, 40, 60, 30, 56, 60, 100])\n",
    "line.render_to_file('Stackedline1.svg')"
   ]
  },
  {
   "cell_type": "code",
   "execution_count": 13,
   "metadata": {
    "collapsed": true
   },
   "outputs": [],
   "source": [
    "#Bar chart help us with categorical information and comparisons.\n",
    "bar = pygal.Bar()\n",
    "bar.title = \"Vegetables consumed over past 6 years\"\n",
    "bar.x_labels = map(str, range(2011, 2017))\n",
    "bar.add('Nr of farmers markets in the area', [10, 15, 20, 25, 30, 35])\n",
    "bar.render_to_file('BarChart.svg')"
   ]
  },
  {
   "cell_type": "code",
   "execution_count": 14,
   "metadata": {
    "collapsed": true
   },
   "outputs": [],
   "source": [
    "#Stacked Bar Chart Vertical.\n",
    "bar = pygal.StackedBar()\n",
    "bar.title = \"Apps used fro men and women over time\"\n",
    "bar.x_labels = map(str, range(2000, 2017))\n",
    "bar.add(\"men\", [5, 10, 20, 25, 30, 35, 49, 60, 66, 80, 90, 100, 120, 130, 150, 200])\n",
    "bar.add(\"women\", [20, 30, 40, 49, 50, 59, 66, 79, 100, 130, 149, 200, 210, 250, 270])\n",
    "bar.render_to_file(\"BarChartStacked.svg\")"
   ]
  },
  {
   "cell_type": "code",
   "execution_count": 17,
   "metadata": {
    "collapsed": true
   },
   "outputs": [],
   "source": [
    "#Bar Chart Horizontal.\n",
    "bar = pygal.HorizontalBar()\n",
    "bar.title = \"Nr of hours parents spend with children in a typical day\"\n",
    "bar.x_labels = map(str,('January', 'February', 'March', 'April', 'May', 'June', 'July', 'August', \n",
    "                        'September', 'October', 'November', 'December'))\n",
    "bar.add('Hours', [1.5, 2, 3, 4, 4, 6, 7, 3, 3, 2.5, 3])\n",
    "bar.render_to_file('Chart_time.svg')"
   ]
  },
  {
   "cell_type": "code",
   "execution_count": 19,
   "metadata": {
    "collapsed": true
   },
   "outputs": [],
   "source": [
    "#xy Charts used for Scientific data to show multiple values.\n",
    "xy_chart = pygal.XY()\n",
    "xy_chart.add('value 1', [(-50, -30), (100, 45)])\n",
    "xy_chart.render_to_file (\"xy_chart.svg\")"
   ]
  },
  {
   "cell_type": "code",
   "execution_count": 20,
   "metadata": {
    "collapsed": true
   },
   "outputs": [],
   "source": [
    "xy_chart = pygal.XY()\n",
    "xy_chart.add(\"Line 1\", [(-20, -30), (50, 30)])\n",
    "xy_chart.add(\"Line 2\", [(0, 10), (45, 60)])\n",
    "xy_chart.add(\"Line 3\", [(0, 0), (60, 60)])\n",
    "xy_chart.add(\"Line 4\", [(-45, -10), (70, 10)])\n",
    "xy_chart.render_to_file (\"xy1_chart.svg\")"
   ]
  },
  {
   "cell_type": "code",
   "execution_count": 21,
   "metadata": {
    "collapsed": true
   },
   "outputs": [],
   "source": [
    "#Basic line plot\n",
    "xy_chart = pygal.XY()\n",
    "xy_chart.add(\"Line 1\", [(-50, -30), (100, 45), (120, 56), (168, 102), (211, 192)])\n",
    "xy_chart.add(\"Line 2\", [(0, 0), (10, 5), (35, 0), (-10, 4)])\n",
    "xy_chart.add(\"Line 3\", [(-35, -20), (20, 40), (10, 10), (40, 40)])\n",
    "xy_chart.render_to_file (\"xy2_chart.svg\")"
   ]
  },
  {
   "cell_type": "code",
   "execution_count": 23,
   "metadata": {},
   "outputs": [],
   "source": [
    "#Dot chart\n",
    "dot_chart = pygal.Dot(x_label_rotation = 30)\n",
    "dot_chart.title = \"V8 benchmark results\"\n",
    "dot_chart.x_labels = ['Richards', 'DeltaBlue', 'Crypto', 'RayTrace', 'EarleyBoyer', 'RegExp', 'Splay', 'NavierStokes']\n",
    "dot_chart.add('Chrome', [6395, 8212, 7520, 7218, 12464, 1660, 2123, 8607])\n",
    "dot_chart.add('Firefox', [7473, 8099, 11700, 2651, 6361, 1044, 3797, 9450])\n",
    "dot_chart.add('Opera', [3472, 2933, 4203, 5229, 5810, 1828, 9013, 4669])\n",
    "dot_chart.add('IE', [43, 41, 59, 79, 144, 136, 34, 102])\n",
    "dot_chart.render_to_file (\"dot_Chart.svg\")"
   ]
  },
  {
   "cell_type": "code",
   "execution_count": 24,
   "metadata": {
    "collapsed": true
   },
   "outputs": [],
   "source": [
    "#Dot chart with different valus.\n",
    "dot_chart = pygal.Dot(x_label_rotation = 10)\n",
    "dot_chart.title = \"V8 benchmark results\"\n",
    "dot_chart.x_labels = ['Richards', 'DeltaBlue', 'Crypto', 'RayTrace', 'EarleyBoyer', 'RegExp', 'Splay', 'NavierStokes']\n",
    "dot_chart.add('Chrome', [95, 12, 120, 218, 64, 60, 23, 86])\n",
    "dot_chart.add('Firefox', [74, 199, 100, 251, 161, 44, 97, 50])\n",
    "dot_chart.add('Opera', [72, 33, 103, 129, 10, 28, 13, 69])\n",
    "dot_chart.add('IE', [143, 141, 259, 179, 144, 136, 134, 102])\n",
    "dot_chart.render_to_file (\"dot_Chart1.svg\")"
   ]
  },
  {
   "cell_type": "code",
   "execution_count": 25,
   "metadata": {
    "collapsed": true
   },
   "outputs": [],
   "source": [
    "#Scatter plot, not part of pygal but we create scatter plot by using XY.\n",
    "scatter_plot = pygal.XY(stroke = False) #THis will show points\n",
    "scatter_plot.add('One bedroom', [(-50, -30), (100, 45), (120, 56), (168, 102), (211, 192), (279, 211)])\n",
    "scatter_plot.add('Two bedrooms', [(-2, -14), (370, 444), (391, 464), (399, 512), (412, 569), (789, 869)])\n",
    "scatter_plot.add('Three bedrooms', [(2, 10), (142, 164), (184, 216), (203, 243), (208, 335), (243, 201)])\n",
    "scatter_plot.render_to_file(\"scatterplot.svg\")"
   ]
  },
  {
   "cell_type": "code",
   "execution_count": 26,
   "metadata": {
    "collapsed": true
   },
   "outputs": [],
   "source": [
    "scatter_plot = pygal.XY(stroke = False)\n",
    "scatter_plot.add(\"Line 1\", [(-50, -30), (100, 45), (120, 56),(168, 102), (211, 192)])\n",
    "scatter_plot.add (\"Line 2\", [(0,0), (10, 5), (35,0), (-10, 40)])\n",
    "scatter_plot.add (\"Line 3\", [(-35, -20), (20, 40), (10, 10), (40,40)])\n",
    "scatter_plot.render_to_file (\"scatter1_chart.svg\")"
   ]
  },
  {
   "cell_type": "code",
   "execution_count": 27,
   "metadata": {
    "collapsed": true
   },
   "outputs": [],
   "source": [
    "#DateY charts, each point is associated with a date, not string.\n",
    "#Each X label is associated with data object and Y will be integer or float\n",
    "#We have to have the datetime library and timedelta both are in the library.\n",
    "import datetime\n",
    "from time import sleep"
   ]
  },
  {
   "cell_type": "code",
   "execution_count": 30,
   "metadata": {},
   "outputs": [
    {
     "name": "stdout",
     "output_type": "stream",
     "text": [
      "Slept for fewer than 3 seconds\n"
     ]
    }
   ],
   "source": [
    "start = datetime.datetime.now()\n",
    "sleep(3)#Delays python fro 3 seconds\n",
    "stop = datetime.datetime.now()\n",
    "elapsed = stop - start\n",
    "if elapsed > datetime.timedelta(minutes=3):\n",
    "    print (\"Slept for greater than 3 minutes\")\n",
    "if elapsed > datetime.timedelta(seconds=3):\n",
    "    print (\"Slept for fewer than 3 seconds\")"
   ]
  },
  {
   "cell_type": "code",
   "execution_count": 31,
   "metadata": {
    "collapsed": true
   },
   "outputs": [],
   "source": [
    "from datetime import datetime, timedelta"
   ]
  },
  {
   "cell_type": "code",
   "execution_count": 35,
   "metadata": {},
   "outputs": [],
   "source": [
    "#Pygal does nto support DateY, so code from the book has to be modified.\n",
    "\n",
    "Date_Y = pygal.DateTimeLine (x_label_rotation=35, truncate_label=-1, x_value_formatter=lambda dt: dt.strftime('%d, %b %Y at %I:%M:%S %p'))\n",
    "Date_Y.title = \"Flights and amount of passengers arriving from St.Louis.\"\n",
    "Date_Y.add(\"Arrival\", [\n",
    "    (datetime(2014, 1, 5), 42),\n",
    "    (datetime(2014, 1, 14), 123),\n",
    "    (datetime(2014, 2, 2), 97),\n",
    "    (datetime(2014, 3, 22), 164)])\n",
    "Date_Y.render_to_file('datey_chart.svg')"
   ]
  },
  {
   "cell_type": "code",
   "execution_count": 36,
   "metadata": {
    "collapsed": true
   },
   "outputs": [],
   "source": [
    "Date_Y = pygal.DateTimeLine(x_label_rotation=25)\n",
    "Date_Y.title = \"Flights and amount of passengers arriving from St.Louis.\"\n",
    "Date_Y.add(\"Arrival\", [\n",
    "    (datetime(2014, 1, 5), 42),\n",
    "    (datetime(2014, 1, 14), 123),\n",
    "    (datetime(2014, 2, 2), 97),\n",
    "    (datetime(2014, 3, 22), 164)])\n",
    "Date_Y.render_to_file('datey_chart1.svg')"
   ]
  },
  {
   "cell_type": "code",
   "execution_count": null,
   "metadata": {
    "collapsed": true
   },
   "outputs": [],
   "source": [
    "import pygal, time\n",
    "from datetime import datetime\n",
    "#setting a delay between two arrivals and the time for each data point. We will use the time.sleep here\n",
    "arrival1 = datetime.now()\n",
    "time.sleep(277)\n",
    "arrival2 = datetime.now()\n",
    "delta = arrival2 - arrival1\n",
    "result = str(delta.seconds) + ' seconds'\n",
    "Date_Y = pygal.DateTimeLine(x_label_rotation=25)\n",
    "Date_Y.title = \"Flights and amount of passengers arriving from St.Louis.\"\n",
    "Date_Y.add(\"Arrival\", [\n",
    "       (datetime(2014, 1, 5), 42),\n",
    "       (datetime(2014, 1, 14), 123),\n",
    "       (datetime(2014, 2, 2), 97),\n",
    "       (datetime(2014, 3, 22), 164)])\n",
    "Date_Y.add(\"Arrivals today (time between flights %s)\" % result, [(arrival1, 14),(arrival2, 47)])\n",
    "Date_Y.render_to_file('datey3_chart.svg')"
   ]
  },
  {
   "cell_type": "code",
   "execution_count": null,
   "metadata": {
    "collapsed": true
   },
   "outputs": [],
   "source": [
    "#Additional charts (included in chapter 4 in your book)\n",
    "pie_chart = pygal.Pie()\n",
    "pie_chart.title = 'Race and Ethnicity (in %)'\n",
    "pie_chart.add('White', 22.5)\n",
    "pie_chart.add('African Americans', 19.6)\n",
    "pie_chart.add('Asians', 16.3)\n",
    "pie_chart.add('Hispanics', 14.5)\n",
    "pie_chart.add('Native Americans', 2.3)\n",
    "pie_chart.render_to_file ('pie_chart.svg')"
   ]
  },
  {
   "cell_type": "code",
   "execution_count": null,
   "metadata": {
    "collapsed": true
   },
   "outputs": [],
   "source": [
    "#Donut chart\n",
    "pie_chart = pygal.Pie(inner_radius=.5)\n",
    "pie_chart.title = 'Race and Ethnicity (in %)'\n",
    "pie_chart.add('White', 22.5)\n",
    "pie_chart.add('African Americans', 19.6)\n",
    "pie_chart.add('Asians', 16.3)\n",
    "pie_chart.add('Hispanics', 14.5)\n",
    "pie_chart.add('Native Americans', 2.3)\n",
    "pie_chart.render_to_file ('pie_chart_donut.svg')"
   ]
  },
  {
   "cell_type": "code",
   "execution_count": null,
   "metadata": {
    "collapsed": true
   },
   "outputs": [],
   "source": []
  }
 ],
 "metadata": {
  "kernelspec": {
   "display_name": "Python 3",
   "language": "python",
   "name": "python3"
  },
  "language_info": {
   "codemirror_mode": {
    "name": "ipython",
    "version": 3
   },
   "file_extension": ".py",
   "mimetype": "text/x-python",
   "name": "python",
   "nbconvert_exporter": "python",
   "pygments_lexer": "ipython3",
   "version": "3.6.1"
  }
 },
 "nbformat": 4,
 "nbformat_minor": 2
}
