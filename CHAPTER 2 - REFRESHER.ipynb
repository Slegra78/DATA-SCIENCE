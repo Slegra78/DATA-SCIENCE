{
 "cells": [
  {
   "cell_type": "code",
   "execution_count": 1,
   "metadata": {},
   "outputs": [
    {
     "name": "stdout",
     "output_type": "stream",
     "text": [
      "hi class!\n"
     ]
    }
   ],
   "source": [
    "print(\"hi class!\")"
   ]
  },
  {
   "cell_type": "code",
   "execution_count": 3,
   "metadata": {
    "collapsed": true
   },
   "outputs": [],
   "source": [
    "def main():\n",
    "    print(\"Hi Class!\")"
   ]
  },
  {
   "cell_type": "code",
   "execution_count": 4,
   "metadata": {},
   "outputs": [
    {
     "name": "stdout",
     "output_type": "stream",
     "text": [
      "Hi Class!\n"
     ]
    }
   ],
   "source": [
    "main()"
   ]
  },
  {
   "cell_type": "code",
   "execution_count": 7,
   "metadata": {},
   "outputs": [
    {
     "name": "stdout",
     "output_type": "stream",
     "text": [
      "Hi Class!\n"
     ]
    }
   ],
   "source": [
    "def main():\n",
    "    print(\"Hi Class!\")\n",
    "if __name__=='__main__':\n",
    "    main()"
   ]
  },
  {
   "cell_type": "code",
   "execution_count": 8,
   "metadata": {},
   "outputs": [
    {
     "name": "stdout",
     "output_type": "stream",
     "text": [
      "Hi, Levi\n"
     ]
    }
   ],
   "source": [
    "def main(randomname):\n",
    "    print('Hi, '+ randomname)\n",
    "if __name__=='__main__':\n",
    "    main('Levi')"
   ]
  },
  {
   "cell_type": "code",
   "execution_count": 9,
   "metadata": {},
   "outputs": [
    {
     "name": "stdout",
     "output_type": "stream",
     "text": [
      "Hi, Stephanie\n"
     ]
    }
   ],
   "source": [
    "#this will work with any name we want to use.\n",
    "main('Stephanie')"
   ]
  },
  {
   "cell_type": "code",
   "execution_count": 17,
   "metadata": {},
   "outputs": [
    {
     "name": "stdout",
     "output_type": "stream",
     "text": [
      "Hi, Stephanie you are 26 years old.\n"
     ]
    }
   ],
   "source": [
    "def main(randomname, age):\n",
    "    print(\"Hi, \" + randomname + \" you are \" + str(age) + \" years old.\")\n",
    "if __name__=='__main__':\n",
    "    main(\"Stephanie\", 26)"
   ]
  },
  {
   "cell_type": "code",
   "execution_count": 18,
   "metadata": {},
   "outputs": [
    {
     "name": "stdout",
     "output_type": "stream",
     "text": [
      "Hi, Natasha you are 24 years old.\n",
      "Hi, Maria you are 40 years old.\n"
     ]
    }
   ],
   "source": [
    "#the main function can take any type of argument, we will always get the predefined sentence\n",
    "main(\"Natasha\", 24)\n",
    "main(\"Maria\", 40)"
   ]
  },
  {
   "cell_type": "code",
   "execution_count": 20,
   "metadata": {},
   "outputs": [
    {
     "name": "stdout",
     "output_type": "stream",
     "text": [
      "Hi Levi, the amount of coins you have earned is 20.000000\n"
     ]
    }
   ],
   "source": [
    "#Formatting the string into a float\n",
    "def main(randomname, quantity):\n",
    "    print(\"Hi %s, the amount of coins you have earned is %f\"% (randomname, quantity))\n",
    "if __name__=='__main__':\n",
    "    main('Levi', 20)"
   ]
  },
  {
   "cell_type": "code",
   "execution_count": 21,
   "metadata": {},
   "outputs": [
    {
     "name": "stdout",
     "output_type": "stream",
     "text": [
      "Hi Stephanie, you have completed 40.00 percent of your work\n"
     ]
    }
   ],
   "source": [
    "#Defining the decimal point\n",
    "def main(randomname, quantity):\n",
    "    print(\"Hi %s, you have completed %0.2f\"% (randomname, quantity) + ' percent of your work')\n",
    "if __name__=='__main__':\n",
    "    main('Stephanie', 40)"
   ]
  },
  {
   "cell_type": "code",
   "execution_count": 24,
   "metadata": {},
   "outputs": [
    {
     "name": "stdout",
     "output_type": "stream",
     "text": [
      "Hi Stephanie, you have completed 45.72 percent of your work\n"
     ]
    }
   ],
   "source": [
    "#Python will do the rounding for us\n",
    "def main(randomname, quantity):\n",
    "    print(\"Hi %s, you have completed %0.2f\"% (randomname, quantity) + ' percent of your work')\n",
    "if __name__=='__main__':\n",
    "    main('Stephanie', 45.7195)"
   ]
  },
  {
   "cell_type": "code",
   "execution_count": 25,
   "metadata": {
    "collapsed": true
   },
   "outputs": [],
   "source": [
    "#importing packages and libraries\n",
    "import sys"
   ]
  },
  {
   "cell_type": "code",
   "execution_count": 26,
   "metadata": {},
   "outputs": [
    {
     "name": "stdout",
     "output_type": "stream",
     "text": [
      "win32\n"
     ]
    }
   ],
   "source": [
    "#I find te output of your laptop\n",
    "platform = sys.platform;\n",
    "print(\"%s\" % platform)"
   ]
  },
  {
   "cell_type": "code",
   "execution_count": 27,
   "metadata": {},
   "outputs": [
    {
     "name": "stdout",
     "output_type": "stream",
     "text": [
      "Python version: 3.6.1\n"
     ]
    }
   ],
   "source": [
    "#Checking the system version information\n",
    "pyversion_major = sys.version_info[0];\n",
    "pyversion_minor = sys.version_info[1];\n",
    "pyversion_micro = sys.version_info[2];\n",
    "print(\"Python version: %s.%s.%s\" % (pyversion_major, pyversion_minor, pyversion_micro))"
   ]
  },
  {
   "cell_type": "code",
   "execution_count": 28,
   "metadata": {
    "collapsed": true
   },
   "outputs": [],
   "source": [
    "#Create a simple text file and save it in the same directory that the python code is written\n",
    "#This is how to creat a simple text file\n",
    "txtContent = \"Hi I am a text file\"\n",
    "#Then opening the file where we will be writing\n",
    "openFile = open('content.txt', 'w')\n",
    "#Then inserting the content we decided into the file\n",
    "readmeText = openFile.write(txtContent)\n",
    "#Finally closing the file\n",
    "openFile.close()\n",
    "#Once done, we can check for the actual file in the folder"
   ]
  },
  {
   "cell_type": "code",
   "execution_count": 29,
   "metadata": {
    "collapsed": true
   },
   "outputs": [],
   "source": [
    "import PIL"
   ]
  },
  {
   "cell_type": "code",
   "execution_count": 30,
   "metadata": {
    "collapsed": true
   },
   "outputs": [],
   "source": [
    "from PIL import*"
   ]
  },
  {
   "cell_type": "code",
   "execution_count": 31,
   "metadata": {
    "collapsed": true
   },
   "outputs": [],
   "source": [
    "from PIL import Image\n",
    "from PIL import ImageDraw"
   ]
  },
  {
   "cell_type": "code",
   "execution_count": 32,
   "metadata": {
    "collapsed": true
   },
   "outputs": [],
   "source": [
    "def readcontent():\n",
    "    openFile = open('content.txt', 'r')\n",
    "    readmeText = openFile.read()\n",
    "    openFile.close()\n",
    "    return openFile, readmeText"
   ]
  },
  {
   "cell_type": "code",
   "execution_count": 33,
   "metadata": {
    "collapsed": true
   },
   "outputs": [],
   "source": [
    "def generateImage():\n",
    "    img = Image.new(\"RGBA\", (100, 80), \"white\")\n",
    "    draw = ImageDraw.Draw(img)\n",
    "    output = draw.text((10,10), readmeText, fill = (255,0,0,255))\n",
    "    draw = ImageDraw.Draw(img)\n",
    "    img.save(\"output.png\")\n",
    "    return draw, img, output"
   ]
  },
  {
   "cell_type": "code",
   "execution_count": 34,
   "metadata": {
    "collapsed": true
   },
   "outputs": [],
   "source": [
    "openFile, readmeText = readcontent()"
   ]
  },
  {
   "cell_type": "code",
   "execution_count": 35,
   "metadata": {
    "collapsed": true
   },
   "outputs": [],
   "source": [
    "draw, img, output = generateImage()"
   ]
  },
  {
   "cell_type": "code",
   "execution_count": null,
   "metadata": {
    "collapsed": true
   },
   "outputs": [],
   "source": []
  }
 ],
 "metadata": {
  "kernelspec": {
   "display_name": "Python 3",
   "language": "python",
   "name": "python3"
  },
  "language_info": {
   "codemirror_mode": {
    "name": "ipython",
    "version": 3
   },
   "file_extension": ".py",
   "mimetype": "text/x-python",
   "name": "python",
   "nbconvert_exporter": "python",
   "pygments_lexer": "ipython3",
   "version": "3.6.1"
  }
 },
 "nbformat": 4,
 "nbformat_minor": 2
}
